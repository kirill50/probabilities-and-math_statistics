{
 "cells": [
  {
   "cell_type": "markdown",
   "metadata": {},
   "source": [
    "1. Даны значения величины заработной платы заемщиков банка (zp) и значения их поведенческого кредитного скоринга (ks): zp = [35, 45, 190, 200, 40, 70, 54, 150, 120, 110], ks = [401, 574, 874, 919, 459, 739, 653, 902, 746, 832]. Используя математические операции, посчитать коэффициенты линейной регрессии, приняв за X заработную плату (то есть, zp - признак), а за y - значения скорингового балла (то есть, ks - целевая переменная). Произвести расчет как с использованием intercept, так и без."
   ]
  },
  {
   "cell_type": "code",
   "execution_count": 2,
   "metadata": {},
   "outputs": [],
   "source": [
    "import numpy as np"
   ]
  },
  {
   "cell_type": "code",
   "execution_count": 3,
   "metadata": {},
   "outputs": [],
   "source": [
    "x = np.array([35, 45, 190, 200, 40, 70, 54, 150, 120, 110])          ##зарплата\n",
    "y = np.array([401, 574, 874, 919, 459, 739, 653, 902, 746, 832])     ##скоринг"
   ]
  },
  {
   "cell_type": "code",
   "execution_count": 4,
   "metadata": {},
   "outputs": [
    {
     "data": {
      "text/plain": [
       "2.620538882402765"
      ]
     },
     "execution_count": 4,
     "metadata": {},
     "output_type": "execute_result"
    }
   ],
   "source": [
    "b = (np.mean(x*y) - np.mean(x) * np.mean(y)) / (np.mean(x**2) - np.mean(x)**2)  ##1 вариант расчета b\n",
    "b   "
   ]
  },
  {
   "cell_type": "code",
   "execution_count": 5,
   "metadata": {},
   "outputs": [
    {
     "data": {
      "text/plain": [
       "2.6205388824027653"
      ]
     },
     "execution_count": 5,
     "metadata": {},
     "output_type": "execute_result"
    }
   ],
   "source": [
    "n = len(x)                                                                   ##2 вариант расчета b\n",
    "b = (n * (np.sum(x*y)) - (np.sum(x) * np.sum(y))) / (n * (np.sum(x**2)) - ((np.sum(x)**2)))\n",
    "b"
   ]
  },
  {
   "cell_type": "code",
   "execution_count": 6,
   "metadata": {},
   "outputs": [
    {
     "data": {
      "text/plain": [
       "444.17735732435955"
      ]
     },
     "execution_count": 6,
     "metadata": {},
     "output_type": "execute_result"
    }
   ],
   "source": [
    "a = np.mean(y) - b * np.mean(x)\n",
    "a"
   ]
  },
  {
   "cell_type": "code",
   "execution_count": 7,
   "metadata": {},
   "outputs": [],
   "source": [
    "##матричный метод 2 вариант"
   ]
  },
  {
   "cell_type": "code",
   "execution_count": 8,
   "metadata": {},
   "outputs": [],
   "source": [
    "x_1 = x.reshape((n,1))\n",
    "y_1 = y.reshape((n,1))"
   ]
  },
  {
   "cell_type": "code",
   "execution_count": 9,
   "metadata": {},
   "outputs": [],
   "source": [
    "x_1a = np.hstack([np.ones((n,1)),x_1])   ##добавили столбец с 1-ми, так как есть интерсепт a"
   ]
  },
  {
   "cell_type": "code",
   "execution_count": 10,
   "metadata": {},
   "outputs": [
    {
     "data": {
      "text/plain": [
       "array([444.17735732,   2.62053888])"
      ]
     },
     "execution_count": 10,
     "metadata": {},
     "output_type": "execute_result"
    }
   ],
   "source": [
    "b_1_witha = np.dot(np.linalg.inv(np.dot(x_1a.T,x_1a)), x_1a.T@y)\n",
    "b_1_witha"
   ]
  },
  {
   "cell_type": "code",
   "execution_count": 13,
   "metadata": {},
   "outputs": [
    {
     "data": {
      "text/plain": [
       "array([535.89621821, 562.10160703, 942.07974498, 968.2851338 ,\n",
       "       548.99891262, 627.61507909, 585.68645697, 837.25818968,\n",
       "       758.64202321, 732.43663439])"
      ]
     },
     "execution_count": 13,
     "metadata": {},
     "output_type": "execute_result"
    }
   ],
   "source": [
    "y_hat = a + b * x\n",
    "y_hat"
   ]
  },
  {
   "cell_type": "code",
   "execution_count": 82,
   "metadata": {},
   "outputs": [
    {
     "data": {
      "text/plain": [
       "56516.8584157194"
      ]
     },
     "execution_count": 82,
     "metadata": {},
     "output_type": "execute_result"
    }
   ],
   "source": [
    "mse = ((y - y_hat)**2).sum()/n\n",
    "mse                     ##среднеквадратическая ошибка"
   ]
  },
  {
   "cell_type": "code",
   "execution_count": 83,
   "metadata": {},
   "outputs": [
    {
     "data": {
      "text/plain": [
       "array([5.88982042])"
      ]
     },
     "execution_count": 83,
     "metadata": {},
     "output_type": "execute_result"
    }
   ],
   "source": [
    "b_1 = np.dot(np.linalg.inv(np.dot(x_1.T,x_1)), x_1.T@y)  ##а это без интерсепта a\n",
    "b_1"
   ]
  },
  {
   "cell_type": "code",
   "execution_count": 84,
   "metadata": {},
   "outputs": [
    {
     "data": {
      "text/plain": [
       "array([ 206.1437147 ,  265.04191891, 1119.06587983, 1177.96408403,\n",
       "        235.59281681,  412.28742941,  318.05030269,  883.47306302,\n",
       "        706.77845042,  647.88024621])"
      ]
     },
     "execution_count": 84,
     "metadata": {},
     "output_type": "execute_result"
    }
   ],
   "source": [
    "y_hat_1 = b_1 * x\n",
    "y_hat_1"
   ]
  },
  {
   "cell_type": "code",
   "execution_count": 85,
   "metadata": {},
   "outputs": [
    {
     "data": {
      "text/plain": [
       "56516.8584157194"
      ]
     },
     "execution_count": 85,
     "metadata": {},
     "output_type": "execute_result"
    }
   ],
   "source": [
    "mse = ((y - y_hat_1)**2).sum()/n\n",
    "mse                     ##среднеквадратическая ошибка"
   ]
  },
  {
   "cell_type": "markdown",
   "metadata": {},
   "source": [
    "2. Посчитать коэффициент линейной регрессии при заработной плате (zp), используя градиентный спуск (без intercept)."
   ]
  },
  {
   "cell_type": "code",
   "execution_count": 78,
   "metadata": {},
   "outputs": [],
   "source": [
    "b1 = 5.9       ## начинаем обычно из стандартного нормального распределения от -3 до 3\n",
    "alpha = 1e-14     ##1/1000000 - скорость обучения (если много - проскочи минимум, мало - не хватит)\n",
    "n = len(x)"
   ]
  },
  {
   "cell_type": "code",
   "execution_count": 79,
   "metadata": {},
   "outputs": [],
   "source": [
    "def mse_(b1, y=y, x=x, n=n):\n",
    "    return np.sum((b1 * x - y)**2) / n"
   ]
  },
  {
   "cell_type": "code",
   "execution_count": null,
   "metadata": {},
   "outputs": [],
   "source": [
    "#mse = (1/n) * np.sum((b1*x-y)**2)  -берем от нее производную\n",
    "#mse_p = (2/n) * np.sum((b1*x-y)*x)"
   ]
  },
  {
   "cell_type": "code",
   "execution_count": 80,
   "metadata": {},
   "outputs": [
    {
     "name": "stdout",
     "output_type": "stream",
     "text": [
      "Iteration:0, b1 = 5.8999999999971955, mse = 56518.28599999922\n",
      "Iteration:10, b1 = 5.899999999969147, mse = 56518.285999991334\n",
      "Iteration:20, b1 = 5.899999999941098, mse = 56518.285999983476\n",
      "Iteration:30, b1 = 5.8999999999130495, mse = 56518.28599997563\n",
      "Iteration:40, b1 = 5.899999999885001, mse = 56518.28599996774\n",
      "Iteration:50, b1 = 5.899999999856952, mse = 56518.28599995987\n",
      "Iteration:60, b1 = 5.899999999828903, mse = 56518.285999952\n",
      "Iteration:70, b1 = 5.899999999800855, mse = 56518.28599994414\n",
      "Iteration:80, b1 = 5.899999999772806, mse = 56518.28599993627\n",
      "Iteration:90, b1 = 5.899999999744757, mse = 56518.28599992841\n"
     ]
    }
   ],
   "source": [
    "for i in range(100):\n",
    "    b1 -= alpha * (2/n) * np.sum((b1 * x - y) * x)\n",
    "    if i % 10 == 0:\n",
    "        print('Iteration:{i}, b1 = {b1}, mse = {mse}'.format(i=i, b1=b1, mse=mse_(b1)))"
   ]
  },
  {
   "cell_type": "markdown",
   "metadata": {},
   "source": [
    "3. В каких случаях для вычисления доверительных интервалов и проверки статистических гипотез используется таблица значений функции Лапласа, а в каких - таблица критических точек распределения Стьюдента?"
   ]
  },
  {
   "cell_type": "code",
   "execution_count": 87,
   "metadata": {},
   "outputs": [],
   "source": [
    "## Когда известно средне квадратичное отклонение, то используется таблица значений функции Лапласа,\n",
    "## когда неизвестно, то таблица критических точек распределения Стьюдента"
   ]
  },
  {
   "cell_type": "markdown",
   "metadata": {},
   "source": [
    "*4. Произвести вычисления как в пункте 2, но с вычислением intercept. Учесть, что изменение коэффициентов должно производиться на каждом шаге одновременно (то есть изменение одного коэффициента не должно влиять на изменение другого во время одной итерации)."
   ]
  },
  {
   "cell_type": "code",
   "execution_count": 120,
   "metadata": {},
   "outputs": [],
   "source": [
    "b1 = 2.6      ## начинаем обычно из стандартного нормального распределения от -3 до 3\n",
    "alpha = 1e-14     ##1/1000000 - скорость обучения (если много - проскочи минимум, мало - не хватит)\n",
    "n = len(x)"
   ]
  },
  {
   "cell_type": "code",
   "execution_count": 121,
   "metadata": {},
   "outputs": [],
   "source": [
    "def mse_(a1, b1, y=y, x=x, n=n):\n",
    "    return np.sum((a1 + b1 * x - y)**2) / n"
   ]
  },
  {
   "cell_type": "code",
   "execution_count": 122,
   "metadata": {},
   "outputs": [
    {
     "name": "stdout",
     "output_type": "stream",
     "text": [
      "Iteration:0, b1 = 2.600000000906451, a1 = 446.25999990808583, mse = 6471.88839986988\n",
      "Iteration:10, b1 = 2.60000000997096, a1 = 446.25999898894463, mse = 6471.888398568646\n",
      "Iteration:20, b1 = 2.6000000190354693, a1 = 446.2599980698034, mse = 6471.88839726742\n",
      "Iteration:30, b1 = 2.6000000280999784, a1 = 446.2599971506622, mse = 6471.888395966193\n",
      "Iteration:40, b1 = 2.6000000371644876, a1 = 446.2599962315209, mse = 6471.888394664968\n",
      "Iteration:50, b1 = 2.6000000462289967, a1 = 446.2599953123797, mse = 6471.8883933637435\n",
      "Iteration:60, b1 = 2.600000055293506, a1 = 446.25999439323846, mse = 6471.888392062518\n",
      "Iteration:70, b1 = 2.600000064358015, a1 = 446.25999347409726, mse = 6471.888390761293\n",
      "Iteration:80, b1 = 2.600000073422524, a1 = 446.259992554956, mse = 6471.888389460067\n",
      "Iteration:90, b1 = 2.6000000824870333, a1 = 446.2599916358148, mse = 6471.888388158846\n"
     ]
    }
   ],
   "source": [
    "for i in range(100):\n",
    "    b1 -= alpha * (2/n) * np.sum((b1 * x - y) * x)\n",
    "    a1 = np.mean(y) - b1 * np.mean(x)\n",
    "    if i % 10 == 0:\n",
    "        print('Iteration:{i}, b1 = {b1}, a1 = {a1}, mse = {mse}'.format(i=i, b1=b1, a1=a1, mse=mse_(a1, b1)))"
   ]
  }
 ],
 "metadata": {
  "kernelspec": {
   "display_name": "Python 3",
   "language": "python",
   "name": "python3"
  },
  "language_info": {
   "codemirror_mode": {
    "name": "ipython",
    "version": 3
   },
   "file_extension": ".py",
   "mimetype": "text/x-python",
   "name": "python",
   "nbconvert_exporter": "python",
   "pygments_lexer": "ipython3",
   "version": "3.7.4"
  }
 },
 "nbformat": 4,
 "nbformat_minor": 2
}
