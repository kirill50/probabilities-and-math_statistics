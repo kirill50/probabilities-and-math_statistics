{
 "cells": [
  {
   "cell_type": "markdown",
   "metadata": {},
   "source": [
    "1. Даны значения величины заработной платы заемщиков банка (zp) и значения их поведенческого кредитного скоринга (ks): zp = [35, 45, 190, 200, 40, 70, 54, 150, 120, 110], ks = [401, 574, 874, 919, 459, 739, 653, 902, 746, 832]. Используя математические операции, посчитать коэффициенты линейной регрессии, приняв за X заработную плату (то есть, zp - признак), а за y - значения скорингового балла (то есть, ks - целевая переменная). Произвести расчет как с использованием intercept, так и без."
   ]
  },
  {
   "cell_type": "code",
   "execution_count": 22,
   "metadata": {},
   "outputs": [],
   "source": [
    "import numpy as np"
   ]
  },
  {
   "cell_type": "code",
   "execution_count": 23,
   "metadata": {},
   "outputs": [],
   "source": [
    "x = np.array([35, 45, 190, 200, 40, 70, 54, 150, 120, 110])          ##зарплата\n",
    "y = np.array([401, 574, 874, 919, 459, 739, 653, 902, 746, 832])     ##скоринг"
   ]
  },
  {
   "cell_type": "code",
   "execution_count": 24,
   "metadata": {},
   "outputs": [
    {
     "data": {
      "text/plain": [
       "2.620538882402765"
      ]
     },
     "execution_count": 24,
     "metadata": {},
     "output_type": "execute_result"
    }
   ],
   "source": [
    "b = (np.mean(x*y) - np.mean(x) * np.mean(y)) / (np.mean(x**2) - np.mean(x)**2)  ##1 вариант расчета b\n",
    "b   "
   ]
  },
  {
   "cell_type": "code",
   "execution_count": 33,
   "metadata": {},
   "outputs": [
    {
     "data": {
      "text/plain": [
       "2.6205388824027653"
      ]
     },
     "execution_count": 33,
     "metadata": {},
     "output_type": "execute_result"
    }
   ],
   "source": [
    "n = len(x)                                                                   ##2 вариант расчета b\n",
    "b = (n * (np.sum(x*y)) - (np.sum(x) * np.sum(y))) / (n * (np.sum(x**2)) - ((np.sum(x)**2)))\n",
    "b"
   ]
  },
  {
   "cell_type": "code",
   "execution_count": 26,
   "metadata": {},
   "outputs": [
    {
     "data": {
      "text/plain": [
       "444.1773573243596"
      ]
     },
     "execution_count": 26,
     "metadata": {},
     "output_type": "execute_result"
    }
   ],
   "source": [
    "a = np.mean(y) - b * np.mean(x)\n",
    "a"
   ]
  },
  {
   "cell_type": "markdown",
   "metadata": {},
   "source": [
    "2. Посчитать коэффициент линейной регрессии при заработной плате (zp), используя градиентный спуск (без intercept)."
   ]
  },
  {
   "cell_type": "code",
   "execution_count": 131,
   "metadata": {},
   "outputs": [],
   "source": [
    "b1 = 0.3       ## обычно из стандартного нормального распределения от -3 до 3\n",
    "alpha = 1e-14     ##1/1000000 - скорость обучения (если много - проскочи минимум, мало - не хватит)\n",
    "n = len(x)"
   ]
  },
  {
   "cell_type": "code",
   "execution_count": 132,
   "metadata": {},
   "outputs": [],
   "source": [
    "def mse_(b1, y=y, x=x, n=n):\n",
    "    return np.sum((b1 * x - y)**2) / n"
   ]
  },
  {
   "cell_type": "code",
   "execution_count": 133,
   "metadata": {},
   "outputs": [
    {
     "name": "stdout",
     "output_type": "stream",
     "text": [
      "Iteration:0, b1 = 0.3000000013466936, mse = 486981.7737925857\n",
      "Iteration:100, b1 = 0.3000001360160526, mse = 486981.753051156\n",
      "Iteration:200, b1 = 0.3000002706854116, mse = 486981.732309727\n",
      "Iteration:300, b1 = 0.30000040535477057, mse = 486981.71156829817\n",
      "Iteration:400, b1 = 0.30000054002412957, mse = 486981.69082687004\n",
      "Iteration:500, b1 = 0.30000067469348857, mse = 486981.6700854424\n",
      "Iteration:600, b1 = 0.30000080936284756, mse = 486981.6493440151\n",
      "Iteration:700, b1 = 0.30000094403220656, mse = 486981.62860258855\n",
      "Iteration:800, b1 = 0.30000107870156556, mse = 486981.60786116234\n",
      "Iteration:900, b1 = 0.30000121337092456, mse = 486981.5871197366\n"
     ]
    }
   ],
   "source": [
    "for i in range(1000):\n",
    "    b1 -= alpha * (2/n) * np.sum((b1 + x - y) * x)\n",
    "    if i % 100 == 0:\n",
    "        print('Iteration:{i}, b1 = {b1}, mse = {mse}'.format(i=i, b1=b1, mse=mse_(b1)))"
   ]
  },
  {
   "cell_type": "code",
   "execution_count": null,
   "metadata": {},
   "outputs": [],
   "source": []
  }
 ],
 "metadata": {
  "kernelspec": {
   "display_name": "Python 3",
   "language": "python",
   "name": "python3"
  },
  "language_info": {
   "codemirror_mode": {
    "name": "ipython",
    "version": 3
   },
   "file_extension": ".py",
   "mimetype": "text/x-python",
   "name": "python",
   "nbconvert_exporter": "python",
   "pygments_lexer": "ipython3",
   "version": "3.7.4"
  }
 },
 "nbformat": 4,
 "nbformat_minor": 2
}
