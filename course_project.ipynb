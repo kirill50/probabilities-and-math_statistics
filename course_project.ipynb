{
 "cells": [
  {
   "cell_type": "code",
   "execution_count": 58,
   "metadata": {},
   "outputs": [],
   "source": [
    "import pandas as pd\n",
    "import matplotlib.pyplot as plt\n",
    "from datetime import datetime"
   ]
  },
  {
   "cell_type": "code",
   "execution_count": 77,
   "metadata": {
    "scrolled": true
   },
   "outputs": [
    {
     "data": {
      "text/html": [
       "<div>\n",
       "<style scoped>\n",
       "    .dataframe tbody tr th:only-of-type {\n",
       "        vertical-align: middle;\n",
       "    }\n",
       "\n",
       "    .dataframe tbody tr th {\n",
       "        vertical-align: top;\n",
       "    }\n",
       "\n",
       "    .dataframe thead th {\n",
       "        text-align: right;\n",
       "    }\n",
       "</style>\n",
       "<table border=\"1\" class=\"dataframe\">\n",
       "  <thead>\n",
       "    <tr style=\"text-align: right;\">\n",
       "      <th></th>\n",
       "      <th>Unnamed: 0</th>\n",
       "      <th>AUSTRALIA - AUSTRALIAN DOLLAR/US$</th>\n",
       "      <th>EURO AREA - EURO/US$</th>\n",
       "      <th>NEW ZEALAND - NEW ZELAND DOLLAR/US$</th>\n",
       "      <th>UNITED KINGDOM - UNITED KINGDOM POUND/US$</th>\n",
       "      <th>BRAZIL - REAL/US$</th>\n",
       "      <th>CANADA - CANADIAN DOLLAR/US$</th>\n",
       "      <th>CHINA - YUAN/US$</th>\n",
       "      <th>HONG KONG - HONG KONG DOLLAR/US$</th>\n",
       "      <th>INDIA - INDIAN RUPEE/US$</th>\n",
       "      <th>...</th>\n",
       "      <th>SINGAPORE - SINGAPORE DOLLAR/US$</th>\n",
       "      <th>DENMARK - DANISH KRONE/US$</th>\n",
       "      <th>JAPAN - YEN/US$</th>\n",
       "      <th>MALAYSIA - RINGGIT/US$</th>\n",
       "      <th>NORWAY - NORWEGIAN KRONE/US$</th>\n",
       "      <th>SWEDEN - KRONA/US$</th>\n",
       "      <th>SRI LANKA - SRI LANKAN RUPEE/US$</th>\n",
       "      <th>SWITZERLAND - FRANC/US$</th>\n",
       "      <th>TAIWAN - NEW TAIWAN DOLLAR/US$</th>\n",
       "      <th>THAILAND - BAHT/US$</th>\n",
       "    </tr>\n",
       "    <tr>\n",
       "      <th>Time Serie</th>\n",
       "      <th></th>\n",
       "      <th></th>\n",
       "      <th></th>\n",
       "      <th></th>\n",
       "      <th></th>\n",
       "      <th></th>\n",
       "      <th></th>\n",
       "      <th></th>\n",
       "      <th></th>\n",
       "      <th></th>\n",
       "      <th></th>\n",
       "      <th></th>\n",
       "      <th></th>\n",
       "      <th></th>\n",
       "      <th></th>\n",
       "      <th></th>\n",
       "      <th></th>\n",
       "      <th></th>\n",
       "      <th></th>\n",
       "      <th></th>\n",
       "      <th></th>\n",
       "    </tr>\n",
       "  </thead>\n",
       "  <tbody>\n",
       "    <tr>\n",
       "      <td>2019-01-31</td>\n",
       "      <td>4967.0</td>\n",
       "      <td>1.398590</td>\n",
       "      <td>0.875850</td>\n",
       "      <td>1.474610</td>\n",
       "      <td>0.775305</td>\n",
       "      <td>3.735565</td>\n",
       "      <td>1.330045</td>\n",
       "      <td>6.786345</td>\n",
       "      <td>7.841135</td>\n",
       "      <td>70.710000</td>\n",
       "      <td>...</td>\n",
       "      <td>1.355990</td>\n",
       "      <td>6.538565</td>\n",
       "      <td>108.960500</td>\n",
       "      <td>4.115975</td>\n",
       "      <td>8.547595</td>\n",
       "      <td>8.995035</td>\n",
       "      <td>181.602500</td>\n",
       "      <td>0.989730</td>\n",
       "      <td>30.808000</td>\n",
       "      <td>31.777500</td>\n",
       "    </tr>\n",
       "    <tr>\n",
       "      <td>2019-02-28</td>\n",
       "      <td>4988.5</td>\n",
       "      <td>1.401328</td>\n",
       "      <td>0.881117</td>\n",
       "      <td>1.464289</td>\n",
       "      <td>0.768367</td>\n",
       "      <td>3.724433</td>\n",
       "      <td>1.320872</td>\n",
       "      <td>6.736683</td>\n",
       "      <td>7.847717</td>\n",
       "      <td>71.173889</td>\n",
       "      <td>...</td>\n",
       "      <td>1.353922</td>\n",
       "      <td>6.575372</td>\n",
       "      <td>110.440000</td>\n",
       "      <td>4.075917</td>\n",
       "      <td>8.585456</td>\n",
       "      <td>9.248133</td>\n",
       "      <td>178.394444</td>\n",
       "      <td>1.001428</td>\n",
       "      <td>30.798889</td>\n",
       "      <td>31.327222</td>\n",
       "    </tr>\n",
       "    <tr>\n",
       "      <td>2019-03-31</td>\n",
       "      <td>5009.0</td>\n",
       "      <td>1.412129</td>\n",
       "      <td>0.885271</td>\n",
       "      <td>1.463062</td>\n",
       "      <td>0.759533</td>\n",
       "      <td>3.840748</td>\n",
       "      <td>1.337052</td>\n",
       "      <td>6.711943</td>\n",
       "      <td>7.849162</td>\n",
       "      <td>69.489524</td>\n",
       "      <td>...</td>\n",
       "      <td>1.354348</td>\n",
       "      <td>6.606048</td>\n",
       "      <td>111.144286</td>\n",
       "      <td>4.076976</td>\n",
       "      <td>8.607167</td>\n",
       "      <td>9.293090</td>\n",
       "      <td>178.095238</td>\n",
       "      <td>1.000519</td>\n",
       "      <td>30.856667</td>\n",
       "      <td>31.735238</td>\n",
       "    </tr>\n",
       "    <tr>\n",
       "      <td>2019-04-30</td>\n",
       "      <td>5030.5</td>\n",
       "      <td>1.406264</td>\n",
       "      <td>0.890168</td>\n",
       "      <td>1.489318</td>\n",
       "      <td>0.767527</td>\n",
       "      <td>3.897423</td>\n",
       "      <td>1.337814</td>\n",
       "      <td>6.716068</td>\n",
       "      <td>7.844486</td>\n",
       "      <td>69.406818</td>\n",
       "      <td>...</td>\n",
       "      <td>1.356118</td>\n",
       "      <td>6.645436</td>\n",
       "      <td>111.641364</td>\n",
       "      <td>4.112500</td>\n",
       "      <td>8.562295</td>\n",
       "      <td>9.327950</td>\n",
       "      <td>174.643182</td>\n",
       "      <td>1.008427</td>\n",
       "      <td>30.846818</td>\n",
       "      <td>31.847727</td>\n",
       "    </tr>\n",
       "    <tr>\n",
       "      <td>2019-05-31</td>\n",
       "      <td>5053.0</td>\n",
       "      <td>1.439882</td>\n",
       "      <td>0.893909</td>\n",
       "      <td>1.523982</td>\n",
       "      <td>0.778091</td>\n",
       "      <td>3.991491</td>\n",
       "      <td>1.345977</td>\n",
       "      <td>6.851859</td>\n",
       "      <td>7.847777</td>\n",
       "      <td>69.782727</td>\n",
       "      <td>...</td>\n",
       "      <td>1.370636</td>\n",
       "      <td>6.672791</td>\n",
       "      <td>109.971364</td>\n",
       "      <td>4.167477</td>\n",
       "      <td>8.738686</td>\n",
       "      <td>9.592136</td>\n",
       "      <td>176.150000</td>\n",
       "      <td>1.010727</td>\n",
       "      <td>31.221818</td>\n",
       "      <td>31.796364</td>\n",
       "    </tr>\n",
       "  </tbody>\n",
       "</table>\n",
       "<p>5 rows × 23 columns</p>\n",
       "</div>"
      ],
      "text/plain": [
       "            Unnamed: 0  AUSTRALIA - AUSTRALIAN DOLLAR/US$  \\\n",
       "Time Serie                                                  \n",
       "2019-01-31      4967.0                           1.398590   \n",
       "2019-02-28      4988.5                           1.401328   \n",
       "2019-03-31      5009.0                           1.412129   \n",
       "2019-04-30      5030.5                           1.406264   \n",
       "2019-05-31      5053.0                           1.439882   \n",
       "\n",
       "            EURO AREA - EURO/US$  NEW ZEALAND - NEW ZELAND DOLLAR/US$  \\\n",
       "Time Serie                                                              \n",
       "2019-01-31              0.875850                             1.474610   \n",
       "2019-02-28              0.881117                             1.464289   \n",
       "2019-03-31              0.885271                             1.463062   \n",
       "2019-04-30              0.890168                             1.489318   \n",
       "2019-05-31              0.893909                             1.523982   \n",
       "\n",
       "            UNITED KINGDOM - UNITED KINGDOM POUND/US$  BRAZIL - REAL/US$  \\\n",
       "Time Serie                                                                 \n",
       "2019-01-31                                   0.775305           3.735565   \n",
       "2019-02-28                                   0.768367           3.724433   \n",
       "2019-03-31                                   0.759533           3.840748   \n",
       "2019-04-30                                   0.767527           3.897423   \n",
       "2019-05-31                                   0.778091           3.991491   \n",
       "\n",
       "            CANADA - CANADIAN DOLLAR/US$  CHINA - YUAN/US$  \\\n",
       "Time Serie                                                   \n",
       "2019-01-31                      1.330045          6.786345   \n",
       "2019-02-28                      1.320872          6.736683   \n",
       "2019-03-31                      1.337052          6.711943   \n",
       "2019-04-30                      1.337814          6.716068   \n",
       "2019-05-31                      1.345977          6.851859   \n",
       "\n",
       "            HONG KONG - HONG KONG DOLLAR/US$  INDIA - INDIAN RUPEE/US$  ...  \\\n",
       "Time Serie                                                              ...   \n",
       "2019-01-31                          7.841135                 70.710000  ...   \n",
       "2019-02-28                          7.847717                 71.173889  ...   \n",
       "2019-03-31                          7.849162                 69.489524  ...   \n",
       "2019-04-30                          7.844486                 69.406818  ...   \n",
       "2019-05-31                          7.847777                 69.782727  ...   \n",
       "\n",
       "            SINGAPORE - SINGAPORE DOLLAR/US$  DENMARK - DANISH KRONE/US$  \\\n",
       "Time Serie                                                                 \n",
       "2019-01-31                          1.355990                    6.538565   \n",
       "2019-02-28                          1.353922                    6.575372   \n",
       "2019-03-31                          1.354348                    6.606048   \n",
       "2019-04-30                          1.356118                    6.645436   \n",
       "2019-05-31                          1.370636                    6.672791   \n",
       "\n",
       "            JAPAN - YEN/US$  MALAYSIA - RINGGIT/US$  \\\n",
       "Time Serie                                            \n",
       "2019-01-31       108.960500                4.115975   \n",
       "2019-02-28       110.440000                4.075917   \n",
       "2019-03-31       111.144286                4.076976   \n",
       "2019-04-30       111.641364                4.112500   \n",
       "2019-05-31       109.971364                4.167477   \n",
       "\n",
       "            NORWAY - NORWEGIAN KRONE/US$  SWEDEN - KRONA/US$  \\\n",
       "Time Serie                                                     \n",
       "2019-01-31                      8.547595            8.995035   \n",
       "2019-02-28                      8.585456            9.248133   \n",
       "2019-03-31                      8.607167            9.293090   \n",
       "2019-04-30                      8.562295            9.327950   \n",
       "2019-05-31                      8.738686            9.592136   \n",
       "\n",
       "            SRI LANKA - SRI LANKAN RUPEE/US$  SWITZERLAND - FRANC/US$  \\\n",
       "Time Serie                                                              \n",
       "2019-01-31                        181.602500                 0.989730   \n",
       "2019-02-28                        178.394444                 1.001428   \n",
       "2019-03-31                        178.095238                 1.000519   \n",
       "2019-04-30                        174.643182                 1.008427   \n",
       "2019-05-31                        176.150000                 1.010727   \n",
       "\n",
       "            TAIWAN - NEW TAIWAN DOLLAR/US$  THAILAND - BAHT/US$  \n",
       "Time Serie                                                       \n",
       "2019-01-31                       30.808000            31.777500  \n",
       "2019-02-28                       30.798889            31.327222  \n",
       "2019-03-31                       30.856667            31.735238  \n",
       "2019-04-30                       30.846818            31.847727  \n",
       "2019-05-31                       31.221818            31.796364  \n",
       "\n",
       "[5 rows x 23 columns]"
      ]
     },
     "execution_count": 77,
     "metadata": {},
     "output_type": "execute_result"
    }
   ],
   "source": [
    "currency = pd.read_csv(\"../Desktop/Курсовой проект статистика/Forex_Rates.csv\", delimiter = ',',\n",
    "                       parse_dates = ['Time Serie'], index_col = 'Time Serie', na_values = 'ND')\n",
    "currency.apply(pd.to_numeric, errors = 'ignore')\n",
    "currency = currency.resample('M').mean()\n",
    "currency_1 = currency[datetime(2015,10,1):datetime(2019,6,1)]\n",
    "currency_1.tail()\n"
   ]
  },
  {
   "cell_type": "code",
   "execution_count": 76,
   "metadata": {},
   "outputs": [
    {
     "data": {
      "text/html": [
       "<div>\n",
       "<style scoped>\n",
       "    .dataframe tbody tr th:only-of-type {\n",
       "        vertical-align: middle;\n",
       "    }\n",
       "\n",
       "    .dataframe tbody tr th {\n",
       "        vertical-align: top;\n",
       "    }\n",
       "\n",
       "    .dataframe thead th {\n",
       "        text-align: right;\n",
       "    }\n",
       "</style>\n",
       "<table border=\"1\" class=\"dataframe\">\n",
       "  <thead>\n",
       "    <tr style=\"text-align: right;\">\n",
       "      <th></th>\n",
       "      <th>Unix Timestamp</th>\n",
       "      <th>Open</th>\n",
       "      <th>High</th>\n",
       "      <th>Low</th>\n",
       "      <th>Close</th>\n",
       "      <th>Volume</th>\n",
       "    </tr>\n",
       "    <tr>\n",
       "      <th>Date</th>\n",
       "      <th></th>\n",
       "      <th></th>\n",
       "      <th></th>\n",
       "      <th></th>\n",
       "      <th></th>\n",
       "      <th></th>\n",
       "    </tr>\n",
       "  </thead>\n",
       "  <tbody>\n",
       "    <tr>\n",
       "      <td>2019-01-31</td>\n",
       "      <td>1.547638e+12</td>\n",
       "      <td>3658.587778</td>\n",
       "      <td>3668.377258</td>\n",
       "      <td>3647.739426</td>\n",
       "      <td>3658.211084</td>\n",
       "      <td>119.605165</td>\n",
       "    </tr>\n",
       "    <tr>\n",
       "      <td>2019-02-28</td>\n",
       "      <td>1.550187e+12</td>\n",
       "      <td>3648.817768</td>\n",
       "      <td>3657.997677</td>\n",
       "      <td>3640.529970</td>\n",
       "      <td>3649.382336</td>\n",
       "      <td>101.136638</td>\n",
       "    </tr>\n",
       "    <tr>\n",
       "      <td>2019-03-31</td>\n",
       "      <td>1.552736e+12</td>\n",
       "      <td>3918.651442</td>\n",
       "      <td>3925.391135</td>\n",
       "      <td>3912.010288</td>\n",
       "      <td>3919.059398</td>\n",
       "      <td>69.810180</td>\n",
       "    </tr>\n",
       "    <tr>\n",
       "      <td>2019-04-30</td>\n",
       "      <td>1.555371e+12</td>\n",
       "      <td>5139.170889</td>\n",
       "      <td>5158.923965</td>\n",
       "      <td>5119.569209</td>\n",
       "      <td>5140.797736</td>\n",
       "      <td>120.647089</td>\n",
       "    </tr>\n",
       "    <tr>\n",
       "      <td>2019-05-31</td>\n",
       "      <td>1.558006e+12</td>\n",
       "      <td>7226.887823</td>\n",
       "      <td>7273.111761</td>\n",
       "      <td>7180.313387</td>\n",
       "      <td>7231.255914</td>\n",
       "      <td>130.415828</td>\n",
       "    </tr>\n",
       "  </tbody>\n",
       "</table>\n",
       "</div>"
      ],
      "text/plain": [
       "            Unix Timestamp         Open         High          Low  \\\n",
       "Date                                                                \n",
       "2019-01-31    1.547638e+12  3658.587778  3668.377258  3647.739426   \n",
       "2019-02-28    1.550187e+12  3648.817768  3657.997677  3640.529970   \n",
       "2019-03-31    1.552736e+12  3918.651442  3925.391135  3912.010288   \n",
       "2019-04-30    1.555371e+12  5139.170889  5158.923965  5119.569209   \n",
       "2019-05-31    1.558006e+12  7226.887823  7273.111761  7180.313387   \n",
       "\n",
       "                  Close      Volume  \n",
       "Date                                 \n",
       "2019-01-31  3658.211084  119.605165  \n",
       "2019-02-28  3649.382336  101.136638  \n",
       "2019-03-31  3919.059398   69.810180  \n",
       "2019-04-30  5140.797736  120.647089  \n",
       "2019-05-31  7231.255914  130.415828  "
      ]
     },
     "execution_count": 76,
     "metadata": {},
     "output_type": "execute_result"
    }
   ],
   "source": [
    "bitcoin = pd.read_csv(\"../Desktop/Курсовой проект статистика/BTC 1h.csv\", delimiter = ',')\n",
    "bitcoin['Date'] = [pd.to_datetime(date, format = \"%d-%m-%Y %H.%M\") for date in bitcoin['Date']]\n",
    "bitcoin.set_index('Date', inplace = True)\n",
    "bitcoin = bitcoin.resample('M').mean()\n",
    "bitcoin = bitcoin[datetime(2015,10,1):datetime(2019,6,1)]\n",
    "bitcoin.tail()"
   ]
  },
  {
   "cell_type": "code",
   "execution_count": 79,
   "metadata": {},
   "outputs": [
    {
     "data": {
      "text/html": [
       "<div>\n",
       "<style scoped>\n",
       "    .dataframe tbody tr th:only-of-type {\n",
       "        vertical-align: middle;\n",
       "    }\n",
       "\n",
       "    .dataframe tbody tr th {\n",
       "        vertical-align: top;\n",
       "    }\n",
       "\n",
       "    .dataframe thead th {\n",
       "        text-align: right;\n",
       "    }\n",
       "</style>\n",
       "<table border=\"1\" class=\"dataframe\">\n",
       "  <thead>\n",
       "    <tr style=\"text-align: right;\">\n",
       "      <th></th>\n",
       "      <th>Price</th>\n",
       "    </tr>\n",
       "    <tr>\n",
       "      <th>Date</th>\n",
       "      <th></th>\n",
       "    </tr>\n",
       "  </thead>\n",
       "  <tbody>\n",
       "    <tr>\n",
       "      <td>2019-01-31</td>\n",
       "      <td>59.409545</td>\n",
       "    </tr>\n",
       "    <tr>\n",
       "      <td>2019-02-28</td>\n",
       "      <td>63.960500</td>\n",
       "    </tr>\n",
       "    <tr>\n",
       "      <td>2019-03-31</td>\n",
       "      <td>66.138571</td>\n",
       "    </tr>\n",
       "    <tr>\n",
       "      <td>2019-04-30</td>\n",
       "      <td>71.233333</td>\n",
       "    </tr>\n",
       "    <tr>\n",
       "      <td>2019-05-31</td>\n",
       "      <td>71.317727</td>\n",
       "    </tr>\n",
       "  </tbody>\n",
       "</table>\n",
       "</div>"
      ],
      "text/plain": [
       "                Price\n",
       "Date                 \n",
       "2019-01-31  59.409545\n",
       "2019-02-28  63.960500\n",
       "2019-03-31  66.138571\n",
       "2019-04-30  71.233333\n",
       "2019-05-31  71.317727"
      ]
     },
     "execution_count": 79,
     "metadata": {},
     "output_type": "execute_result"
    }
   ],
   "source": [
    "oil = pd.read_csv(\"../Desktop/Курсовой проект статистика/BrentOilPrices.csv\", delimiter = ',',\n",
    "                 parse_dates = ['Date'], index_col = 'Date')\n",
    "oil = oil.resample('M').mean()\n",
    "oil = oil [datetime(2015,10,1):datetime(2019,6,1)]\n",
    "\n",
    "oil.tail()"
   ]
  },
  {
   "cell_type": "code",
   "execution_count": 80,
   "metadata": {},
   "outputs": [
    {
     "data": {
      "text/html": [
       "<div>\n",
       "<style scoped>\n",
       "    .dataframe tbody tr th:only-of-type {\n",
       "        vertical-align: middle;\n",
       "    }\n",
       "\n",
       "    .dataframe tbody tr th {\n",
       "        vertical-align: top;\n",
       "    }\n",
       "\n",
       "    .dataframe thead th {\n",
       "        text-align: right;\n",
       "    }\n",
       "</style>\n",
       "<table border=\"1\" class=\"dataframe\">\n",
       "  <thead>\n",
       "    <tr style=\"text-align: right;\">\n",
       "      <th></th>\n",
       "      <th>Price</th>\n",
       "    </tr>\n",
       "    <tr>\n",
       "      <th>Date</th>\n",
       "      <th></th>\n",
       "    </tr>\n",
       "  </thead>\n",
       "  <tbody>\n",
       "    <tr>\n",
       "      <td>2019-02-01</td>\n",
       "      <td>1319.755</td>\n",
       "    </tr>\n",
       "    <tr>\n",
       "      <td>2019-03-01</td>\n",
       "      <td>1302.286</td>\n",
       "    </tr>\n",
       "    <tr>\n",
       "      <td>2019-04-01</td>\n",
       "      <td>1287.650</td>\n",
       "    </tr>\n",
       "    <tr>\n",
       "      <td>2019-05-01</td>\n",
       "      <td>1282.460</td>\n",
       "    </tr>\n",
       "    <tr>\n",
       "      <td>2019-06-01</td>\n",
       "      <td>1358.488</td>\n",
       "    </tr>\n",
       "  </tbody>\n",
       "</table>\n",
       "</div>"
      ],
      "text/plain": [
       "               Price\n",
       "Date                \n",
       "2019-02-01  1319.755\n",
       "2019-03-01  1302.286\n",
       "2019-04-01  1287.650\n",
       "2019-05-01  1282.460\n",
       "2019-06-01  1358.488"
      ]
     },
     "execution_count": 80,
     "metadata": {},
     "output_type": "execute_result"
    }
   ],
   "source": [
    "gold = pd.read_csv(\"../Desktop/Курсовой проект статистика/gold_monthly.csv\", delimiter = ',',\n",
    "                  parse_dates = ['Date'], index_col = 'Date')\n",
    "gold = gold [datetime(2015,10,1):datetime(2019,6,1)]\n",
    "gold.tail()"
   ]
  },
  {
   "cell_type": "code",
   "execution_count": 85,
   "metadata": {},
   "outputs": [
    {
     "data": {
      "text/plain": [
       "<function matplotlib.pyplot.show(*args, **kw)>"
      ]
     },
     "execution_count": 85,
     "metadata": {},
     "output_type": "execute_result"
    },
    {
     "data": {
      "image/png": "[encoded data removed]",
      "text/plain": [
       "<Figure size 432x288 with 1 Axes>"
      ]
     },
     "metadata": {
      "needs_background": "light"
     },
     "output_type": "display_data"
    }
   ],
   "source": [
    "plt.plot(bitcoin.index, bitcoin['Close'], label = 'bitcoin')\n",
    "plt.plot(currency_1.index, currency_1['EURO AREA - EURO/US$'], label = 'forex')\n",
    "plt.plot(oil.index, oil['Price'], label = 'oil')\n",
    "plt.plot(gold.index, gold['Price'], label = 'gold')\n",
    "plt.legend()\n",
    "plt.xticks(rotation='vertical')\n",
    "plt.yscale(value = 'log')\n",
    "plt.show"
   ]
  },
  {
   "cell_type": "code",
   "execution_count": 90,
   "metadata": {},
   "outputs": [
    {
     "data": {
      "text/plain": [
       "<function matplotlib.pyplot.show(*args, **kw)>"
      ]
     },
     "execution_count": 90,
     "metadata": {},
     "output_type": "execute_result"
    },
    {
     "data": {
      "image/png": "[encoded data removed]",
      "text/plain": [
       "<Figure size 432x288 with 1 Axes>"
      ]
     },
     "metadata": {
      "needs_background": "light"
     },
     "output_type": "display_data"
    }
   ],
   "source": [
    "plt.plot(currency_1.index, currency_1['EURO AREA - EURO/US$'], label = 'forex')\n",
    "plt.show"
   ]
  },
  {
   "cell_type": "code",
   "execution_count": 91,
   "metadata": {},
   "outputs": [
    {
     "data": {
      "text/plain": [
       "[<matplotlib.lines.Line2D at 0x1203c87b8>]"
      ]
     },
     "execution_count": 91,
     "metadata": {},
     "output_type": "execute_result"
    },
    {
     "data": {
      "image/png": "[encoded data removed]",
      "text/plain": [
       "<Figure size 432x288 with 1 Axes>"
      ]
     },
     "metadata": {
      "needs_background": "light"
     },
     "output_type": "display_data"
    }
   ],
   "source": [
    "plt.plot(bitcoin.index, bitcoin['Close'], label = 'bitcoin')"
   ]
  },
  {
   "cell_type": "code",
   "execution_count": 93,
   "metadata": {},
   "outputs": [
    {
     "data": {
      "text/plain": [
       "[<matplotlib.lines.Line2D at 0x11d3d31d0>]"
      ]
     },
     "execution_count": 93,
     "metadata": {},
     "output_type": "execute_result"
    },
    {
     "data": {
      "image/png": "[encoded data removed]",
      "text/plain": [
       "<Figure size 432x288 with 1 Axes>"
      ]
     },
     "metadata": {
      "needs_background": "light"
     },
     "output_type": "display_data"
    }
   ],
   "source": [
    "plt.plot(oil.index, oil['Price'], label = 'oil')"
   ]
  },
  {
   "cell_type": "code",
   "execution_count": 92,
   "metadata": {},
   "outputs": [
    {
     "data": {
      "text/plain": [
       "[<matplotlib.lines.Line2D at 0x11dd76b00>]"
      ]
     },
     "execution_count": 92,
     "metadata": {},
     "output_type": "execute_result"
    },
    {
     "data": {
      "image/png": "[encoded data removed]",
      "text/plain": [
       "<Figure size 432x288 with 1 Axes>"
      ]
     },
     "metadata": {
      "needs_background": "light"
     },
     "output_type": "display_data"
    }
   ],
   "source": [
    "plt.plot(gold.index, gold['Price'], label = 'gold')"
   ]
  }
 ],
 "metadata": {
  "kernelspec": {
   "display_name": "Python 3",
   "language": "python",
   "name": "python3"
  },
  "language_info": {
   "codemirror_mode": {
    "name": "ipython",
    "version": 3
   },
   "file_extension": ".py",
   "mimetype": "text/x-python",
   "name": "python",
   "nbconvert_exporter": "python",
   "pygments_lexer": "ipython3",
   "version": "3.7.3"
  }
 },
 "nbformat": 4,
 "nbformat_minor": 2
}
